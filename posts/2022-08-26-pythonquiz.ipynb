{
 "cells": [
  {
   "cell_type": "raw",
   "metadata": {},
   "source": [
    "---\n",
    "aliases:\n",
    "- /collegeboard/2022/08/26/pythonquiz\n",
    "author: moonpie\n",
    "categories:\n",
    "- collegeboard\n",
    "date: '2022-08-26'\n",
    "output-file: 2022-08-26-pythonquiz.html\n",
    "tags:\n",
    "- python\n",
    "title: Football Quiz\n",
    "toc: true\n",
    "execute:\n",
    "  freeze: auto\n",
    "\n",
    "---\n",
    "\n"
   ]
  },
  {
   "cell_type": "markdown",
   "metadata": {},
   "source": [
    "# Code"
   ]
  },
  {
   "cell_type": "code",
   "execution_count": 3,
   "metadata": {},
   "outputs": [
    {
     "name": "stdout",
     "output_type": "stream",
     "text": [
      "you are very smart\n",
      "1 / 1\n"
     ]
    }
   ],
   "source": [
    "questions = [\"Is Jeffrey the smartest person alive\"]\n",
    "answers = [\"yes\"]\n",
    "grade = 0\n",
    "a = 0\n",
    "for q in questions:\n",
    "    answer = input(q)\n",
    "    if answer == answers[a]:\n",
    "        print(\"you are very smart\")\n",
    "        grade += 1\n",
    "    else:\n",
    "        print(\"you are dumb\")\n",
    "    a += 1\n",
    "print(grade,\"/\", len(questions))"
   ]
  },
  {
   "cell_type": "markdown",
   "metadata": {},
   "source": [
    "# Explanation\n",
    "\n",
    "My code is much simpler than the example given. By using what is called a for loop, I can repeat the same actions or lines of code (with different inputs) allowing me to have to not type as much. The other thing I am taking advantage of is a list. In python, a list is basically a  way to store multiple values. \n",
    "\n",
    "The syntax of a for loop is \n",
    "`for i in j`\n",
    "\n",
    "`i` is a variable, one which starts at 0 and gets added to until it reaches j. The program runs what is in the for function once, then adds to `i`, and then repeats until `i` reaches j. For loops exist in lots of programming languages. \n",
    "\n",
    "However, I did something special. I created a list called `questions`, which can store as many questions as I want. I also created a list called `answers`, which stores anwsers. The `for q in questions` doesn't just behave like a normal for loop, the q is not a variable, but rather an item in the list. The function goes through the list with different items. \n",
    "\n",
    "In addition to that, I set a variable called `a`. `a` is used to call on a specific item in the list `answers`, one that matches the question. By adding 1 to `a` at the end of the for loop, I can make sure the item called from questions matches with that of answers.\n",
    "\n",
    "Because of my *genius* intelligence, I was able to create quiz, that is infinitely extendable. You simply add more items to the list of questions and answers, and more questions and answers will be added. No programming necessary. In addition to that, it also gives a fraction score. "
   ]
  },
  {
   "cell_type": "code",
   "execution_count": 11,
   "metadata": {},
   "outputs": [
    {
     "name": "stdout",
     "output_type": "stream",
     "text": [
      "Correct\n",
      "Correct\n",
      "% 100.0\n"
     ]
    }
   ],
   "source": [
    "questions = [[\"Is Jeffrey the Smartest person alive\", \"yes\"], [\"How many players are there on a football team?\", \"11\"]]\n",
    "grade = 0\n",
    "for q in questions:\n",
    "    a = input(q[0])\n",
    "    if a == q[1]:\n",
    "        print(\"Correct\")\n",
    "        grade +=1\n",
    "    else:\n",
    "        print(\"Incorrect\")\n",
    "\n",
    "print(\"%\",(grade / len(questions) * 100))"
   ]
  }
 ],
 "metadata": {
  "kernelspec": {
   "display_name": "Python 3.9.7 ('base')",
   "language": "python",
   "name": "python3"
  },
  "language_info": {
   "codemirror_mode": {
    "name": "ipython",
    "version": 3
   },
   "file_extension": ".py",
   "mimetype": "text/x-python",
   "name": "python",
   "nbconvert_exporter": "python",
   "pygments_lexer": "ipython3",
   "version": "3.9.7"
  },
  "orig_nbformat": 4,
  "vscode": {
   "interpreter": {
    "hash": "586ad1ed5c97141e2437e681efbf1ec0adcd17d830cf5af2ca3d2819e743e158"
   }
  }
 },
 "nbformat": 4,
 "nbformat_minor": 2
}
