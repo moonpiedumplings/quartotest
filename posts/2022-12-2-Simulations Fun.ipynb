{
 "cells": [
  {
   "cell_type": "raw",
   "metadata": {},
   "source": [
    "---\n",
    "{}\n",
    "\n",
    "---\n",
    "\n"
   ]
  },
  {
   "cell_type": "code",
   "execution_count": 1,
   "metadata": {},
   "outputs": [],
   "source": [
    "wordlist = []\n",
    "for line in open(\"wordlist.txt\", \"r\"):\n",
    "    if len(line[:-2]) > 3: # gotta remove the newline character\n",
    "        wordlist.append(line[:-2])\n",
    "#creates a word list for me to work with"
   ]
  },
  {
   "cell_type": "code",
   "execution_count": 8,
   "metadata": {},
   "outputs": [
    {
     "name": "stdout",
     "output_type": "stream",
     "text": [
      "1111\n"
     ]
    }
   ],
   "source": [
    "length = int(input(\"length\"))\n",
    "word = \"\"\n",
    "\n",
    "for l in range(length):\n",
    "    letter = input(\"letter?\")\n",
    "    word = word + letter\n",
    "\n",
    "print(word)\n",
    "# Word builder"
   ]
  },
  {
   "cell_type": "code",
   "execution_count": null,
   "metadata": {},
   "outputs": [],
   "source": [
    "players = int(input(\"How many players?\"))\n",
    "\n",
    "while 2 > 1:\n",
    "    for p in range(players):\n",
    "        a = input(\"stuff\")\n",
    "        if a == \"stop\":\n",
    "            exit\n",
    "        print(p)\n",
    "\n",
    "\n",
    "# Player rotator"
   ]
  },
  {
   "cell_type": "code",
   "execution_count": 14,
   "metadata": {},
   "outputs": [],
   "source": [
    "# menu\n",
    "options = [\"1: Add a letter\", \"2: Call a bluff\"]\n",
    "def menu():\n",
    "    for o in options:\n",
    "        print(o)\n",
    "    choice = int(input(\"Make your choice, player\",p+1))\n",
    "\n"
   ]
  },
  {
   "cell_type": "code",
   "execution_count": 25,
   "metadata": {},
   "outputs": [
    {
     "name": "stdout",
     "output_type": "stream",
     "text": [
      "0\n",
      "1\n",
      "2\n",
      "3\n"
     ]
    }
   ],
   "source": [
    "players = int(input(\"how many players?\"))\n",
    "rnds = int(input(\"rounds?\"))\n",
    "\n",
    "for i,r in enumerate(range(rnds)):\n",
    "    print(i)\n",
    "    print(i / )"
   ]
  },
  {
   "cell_type": "code",
   "execution_count": null,
   "metadata": {},
   "outputs": [],
   "source": [
    "# Beginning of the game\n",
    "players = int(input(\"How many players?\"))\n",
    "gameEnded = False\n",
    "word = input(\"player 1, enter a letter to start:\")\n",
    "\n",
    "while gameEnded == False:\n",
    "    for p in range(players):\n",
    "        if p == 1:\n",
    "            continue\n",
    "        \n",
    "\n"
   ]
  },
  {
   "cell_type": "code",
   "execution_count": 23,
   "metadata": {},
   "outputs": [],
   "source": [
    "from IPython.display import clear_output\n",
    "import time\n",
    "\n",
    "print(\"stuff\")\n",
    "time.sleep(2)\n",
    "clear_output()"
   ]
  },
  {
   "cell_type": "code",
   "execution_count": 20,
   "metadata": {},
   "outputs": [
    {
     "name": "stdout",
     "output_type": "stream",
     "text": [
      "Hello World!\n"
     ]
    }
   ],
   "source": [
    "from IPython.display import clear_output\n",
    "\n",
    "for i in range(10):\n",
    "    clear_output()\n",
    "    print(\"Hello World!\")"
   ]
  }
 ],
 "metadata": {
  "kernelspec": {
   "display_name": "Python 3.9.15 ('base')",
   "language": "python",
   "name": "python3"
  },
  "language_info": {
   "codemirror_mode": {
    "name": "ipython",
    "version": 3
   },
   "file_extension": ".py",
   "mimetype": "text/x-python",
   "name": "python",
   "nbconvert_exporter": "python",
   "pygments_lexer": "ipython3",
   "version": "3.9.15"
  },
  "orig_nbformat": 4,
  "vscode": {
   "interpreter": {
    "hash": "586ad1ed5c97141e2437e681efbf1ec0adcd17d830cf5af2ca3d2819e743e158"
   }
  }
 },
 "nbformat": 4,
 "nbformat_minor": 2
}
